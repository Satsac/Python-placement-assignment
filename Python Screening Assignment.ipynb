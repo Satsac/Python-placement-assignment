{
 "cells": [
  {
   "cell_type": "markdown",
   "id": "c2eceba9",
   "metadata": {},
   "source": [
    "# 1. Create a function in python to read the text file and replace specific content of the file."
   ]
  },
  {
   "cell_type": "code",
   "execution_count": 1,
   "id": "761bb8be",
   "metadata": {},
   "outputs": [
    {
     "data": {
      "text/plain": [
       "<_io.TextIOWrapper name='example.txt' mode='wt' encoding='cp1252'>"
      ]
     },
     "execution_count": 1,
     "metadata": {},
     "output_type": "execute_result"
    }
   ],
   "source": [
    "text_file = open(\"example.txt\",\"w\")\n",
    "text_file.write(\"This is a placement assignment\")\n",
    "text_file.close()\n",
    "\n",
    "def read_and_replace(text_file):\n",
    "    text_file = open(\"example.txt\",\"rt\")\n",
    "    data = text_file.read()\n",
    "    data = data.replace('placement', 'screening')\n",
    "    text_file.close()\n",
    "    text_file = open(\"example.txt\",\"wt\")\n",
    "    text_file.write(data)\n",
    "    text_file.close()\n",
    "    return text_file\n",
    "\n",
    "read_and_replace(text_file)"
   ]
  },
  {
   "cell_type": "code",
   "execution_count": 2,
   "id": "44015b76",
   "metadata": {},
   "outputs": [
    {
     "name": "stdout",
     "output_type": "stream",
     "text": [
      "This is a screening assignment\n"
     ]
    }
   ],
   "source": [
    "f = open('example.txt','r')\n",
    "content = f.read()\n",
    "print(content)\n",
    "f.close()"
   ]
  },
  {
   "cell_type": "markdown",
   "id": "c3fbac53",
   "metadata": {},
   "source": [
    "# 2. Demonstrate use of abstract class, multiple inheritance and decorator in python using examples."
   ]
  },
  {
   "cell_type": "markdown",
   "id": "0448b59c",
   "metadata": {},
   "source": [
    "Method that have declaration but not defination are called Abstract method. An abstract method is a method whoe action is redefined in the sub classes as per the requirement of the object. Generally abstract methods are written without body. An abstract class is a class that generally contains some abstract methods."
   ]
  },
  {
   "cell_type": "markdown",
   "id": "32b8e1da",
   "metadata": {},
   "source": [
    "To import abc module's AB class and abstract method decorator we can write as follows:"
   ]
  },
  {
   "cell_type": "code",
   "execution_count": 3,
   "id": "d3438b9c",
   "metadata": {},
   "outputs": [],
   "source": [
    "from abc import ABC, abstractmethod\n",
    "\n",
    "class Mysubjects(ABC):\n",
    "    @abstractmethod\n",
    "    def calculator(self,x):\n",
    "        pass"
   ]
  },
  {
   "cell_type": "markdown",
   "id": "0e299efa",
   "metadata": {},
   "source": [
    "Here Mysubjects is abstract class since it is derived from ABC meta class"
   ]
  },
  {
   "cell_type": "markdown",
   "id": "593d31a5",
   "metadata": {},
   "source": [
    "Deriving sub classes from multiple base classes is called multiple inheritance. In this type of inheritance, there will be more than one superclass and one or more sub classes. "
   ]
  },
  {
   "cell_type": "markdown",
   "id": "be2d4fe9",
   "metadata": {},
   "source": [
    "Here is a python program to implement multiple inheritance using two base classes."
   ]
  },
  {
   "cell_type": "code",
   "execution_count": 4,
   "id": "5f97f15c",
   "metadata": {},
   "outputs": [
    {
     "name": "stdout",
     "output_type": "stream",
     "text": [
      "child's inherited qualites: \n",
      "Height is 6.0 foot\n",
      "colour is brown\n"
     ]
    }
   ],
   "source": [
    "# Multiple inheritance\n",
    "class Father:\n",
    "    def Height(self):\n",
    "        print('Height is 6.0 foot')\n",
    "\n",
    "class Mother:\n",
    "    def colour(self):\n",
    "        print('colour is brown')\n",
    "        \n",
    "class child(Father, Mother):\n",
    "    pass\n",
    "\n",
    "c = child()\n",
    "print('child\\'s inherited qualites: ')\n",
    "c.Height()\n",
    "c.colour()"
   ]
  },
  {
   "cell_type": "markdown",
   "id": "8fa7be44",
   "metadata": {},
   "source": [
    "A decorator is a function that accepts a function as parameter and returns a function. A decorator takes the results of a function, modifies the result and returns it. They extend the functionalities of existing function without modifying them."
   ]
  },
  {
   "cell_type": "code",
   "execution_count": 5,
   "id": "61cf997c",
   "metadata": {},
   "outputs": [
    {
     "name": "stdout",
     "output_type": "stream",
     "text": [
      "12\n"
     ]
    }
   ],
   "source": [
    "def decor(fun):\n",
    "    def inner():\n",
    "        value = fun()  #access value returned by fun()\n",
    "        return value+2  # increase the value by 2 \n",
    "    return inner        # return the inner function\n",
    "\n",
    "# take a function to which decorator should be applied\n",
    "def num():\n",
    "    return 10\n",
    "\n",
    "#call decorator function and pass num\n",
    "result_fun = decor(num)  #result_fun represents 'inner' function\n",
    "print(result_fun())     # call result_fun and display the result"
   ]
  }
 ],
 "metadata": {
  "kernelspec": {
   "display_name": "Python 3 (ipykernel)",
   "language": "python",
   "name": "python3"
  },
  "language_info": {
   "codemirror_mode": {
    "name": "ipython",
    "version": 3
   },
   "file_extension": ".py",
   "mimetype": "text/x-python",
   "name": "python",
   "nbconvert_exporter": "python",
   "pygments_lexer": "ipython3",
   "version": "3.9.7"
  }
 },
 "nbformat": 4,
 "nbformat_minor": 5
}
